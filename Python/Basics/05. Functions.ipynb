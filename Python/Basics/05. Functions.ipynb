{
 "cells": [
  {
   "cell_type": "markdown",
   "id": "035202e0-b225-4d42-81e9-0aafa823fc28",
   "metadata": {},
   "source": [
    "# Functions"
   ]
  },
  {
   "cell_type": "code",
   "execution_count": null,
   "id": "43c79416-0784-4f7d-80d2-db47e6c993c7",
   "metadata": {},
   "outputs": [],
   "source": []
  },
  {
   "cell_type": "code",
   "execution_count": 1,
   "id": "51b96664-6e23-4a3a-95a8-1e44664a5a6c",
   "metadata": {},
   "outputs": [],
   "source": [
    "def printSuccess():\n",
    "    print(\"I am Kishore\")\n",
    "    print(\"I am learning Python\")"
   ]
  },
  {
   "cell_type": "code",
   "execution_count": 2,
   "id": "0661f110-ecb0-42c3-8969-be36ac6656cd",
   "metadata": {},
   "outputs": [
    {
     "name": "stdout",
     "output_type": "stream",
     "text": [
      "I am Kishore\n",
      "I am learning Python\n"
     ]
    }
   ],
   "source": [
    "printSuccess()"
   ]
  },
  {
   "cell_type": "markdown",
   "id": "46e20033-8ca6-496a-9914-122fe3859357",
   "metadata": {},
   "source": [
    "## Doc String\n",
    "---"
   ]
  },
  {
   "cell_type": "code",
   "execution_count": 3,
   "id": "d1b5197e-fcba-414c-ac80-e2564fa620b6",
   "metadata": {},
   "outputs": [],
   "source": [
    "def printSuccess2():\n",
    "    \"\"\"\n",
    "    This function is used to understand how does the doc string works\n",
    "    \"\"\"\n",
    "    print(\"heyyy man\")"
   ]
  },
  {
   "cell_type": "code",
   "execution_count": 5,
   "id": "6343a8ea-04ed-41f6-b192-ecf891ed0d73",
   "metadata": {},
   "outputs": [
    {
     "data": {
      "text/plain": [
       "\u001b[1;31mSignature:\u001b[0m \u001b[0mprintSuccess2\u001b[0m\u001b[1;33m(\u001b[0m\u001b[1;33m)\u001b[0m\u001b[1;33m\u001b[0m\u001b[1;33m\u001b[0m\u001b[0m\n",
       "\u001b[1;31mSource:\u001b[0m   \n",
       "\u001b[1;32mdef\u001b[0m \u001b[0mprintSuccess2\u001b[0m\u001b[1;33m(\u001b[0m\u001b[1;33m)\u001b[0m\u001b[1;33m:\u001b[0m\u001b[1;33m\n",
       "\u001b[0m    \u001b[1;34m\"\"\"\n",
       "    This function is used to understand how does the doc string works\n",
       "    \"\"\"\u001b[0m\u001b[1;33m\n",
       "\u001b[0m    \u001b[0mprint\u001b[0m\u001b[1;33m(\u001b[0m\u001b[1;34m\"heyyy man\"\u001b[0m\u001b[1;33m)\u001b[0m\u001b[1;33m\u001b[0m\u001b[1;33m\u001b[0m\u001b[0m\n",
       "\u001b[1;31mFile:\u001b[0m      c:\\users\\kisho\\appdata\\local\\temp\\ipykernel_16032\\1512138116.py\n",
       "\u001b[1;31mType:\u001b[0m      function"
      ]
     },
     "metadata": {},
     "output_type": "display_data"
    }
   ],
   "source": [
    "printSuccess2??\n"
   ]
  },
  {
   "cell_type": "code",
   "execution_count": 6,
   "id": "83964399-e1e7-4d6c-b2a0-bd17c53ec8f2",
   "metadata": {},
   "outputs": [
    {
     "name": "stdout",
     "output_type": "stream",
     "text": [
      "Help on function printSuccess2 in module __main__:\n",
      "\n",
      "printSuccess2()\n",
      "    This function is used to understand how does the doc string works\n",
      "\n"
     ]
    }
   ],
   "source": [
    "help(printSuccess2)"
   ]
  },
  {
   "cell_type": "markdown",
   "id": "57172d8c-4a6c-4214-a2ae-be3996473c04",
   "metadata": {},
   "source": [
    "## Input arguments"
   ]
  },
  {
   "cell_type": "code",
   "execution_count": 7,
   "id": "c412347c-c68c-4565-a756-c2f63e25838d",
   "metadata": {},
   "outputs": [],
   "source": [
    "def printMsg(msg):  # here msg is the variable\n",
    "    if isinstance(msg,str):\n",
    "        print(msg)\n",
    "    else:\n",
    "        print(\"Your input is not a string\")\n",
    "        print(\"Here is the type what you supplied :\", type(msg))"
   ]
  },
  {
   "cell_type": "code",
   "execution_count": 8,
   "id": "0c3ac25c-1507-44c1-be06-0221fee0619a",
   "metadata": {},
   "outputs": [
    {
     "name": "stdout",
     "output_type": "stream",
     "text": [
      "Your input is not a string\n",
      "Here is the type what you supplied : <class 'int'>\n"
     ]
    }
   ],
   "source": [
    "printMsg(878)"
   ]
  },
  {
   "cell_type": "code",
   "execution_count": 15,
   "id": "a30ea223-f970-4cb1-a711-7ed4ba09ea2c",
   "metadata": {},
   "outputs": [],
   "source": [
    "def mypow(a,b):\n",
    "    \"\"\"This computes the power of values like pow builtin function\"\"\"\n",
    "    c = a**b\n",
    "    print(c)"
   ]
  },
  {
   "cell_type": "code",
   "execution_count": 14,
   "id": "e881bae2-f99b-4524-b65a-0c77513dc851",
   "metadata": {},
   "outputs": [
    {
     "name": "stdout",
     "output_type": "stream",
     "text": [
      "16\n"
     ]
    }
   ],
   "source": [
    "mypow(2,4)"
   ]
  },
  {
   "cell_type": "code",
   "execution_count": 24,
   "id": "6497bbda-f7c6-4e9e-9430-a4f7e3a87a74",
   "metadata": {},
   "outputs": [],
   "source": [
    "def checkArg(a,b,c):\n",
    "    if isinstance(a,(int,float)) and isinstance(b,(int,float)) and isinstance(c,(int,float)):\n",
    "        print((a+b)**c)\n",
    "    else:\n",
    "        print(\"Error: the data type is not suitable for the calculation\")"
   ]
  },
  {
   "cell_type": "code",
   "execution_count": 25,
   "id": "1b406b6b-0388-4525-810c-7e44f2ddb8fe",
   "metadata": {},
   "outputs": [
    {
     "name": "stdout",
     "output_type": "stream",
     "text": [
      "36\n"
     ]
    }
   ],
   "source": [
    "checkArg(2,4,2)"
   ]
  },
  {
   "cell_type": "code",
   "execution_count": 9,
   "id": "2dad17e1-c5e6-43d3-a353-6e2c2aceba73",
   "metadata": {},
   "outputs": [],
   "source": [
    "def sq(a,b):\n",
    "    result = a**b\n",
    "    return result\n",
    "    "
   ]
  },
  {
   "cell_type": "code",
   "execution_count": 5,
   "id": "1b52a509-6e69-4c16-aa21-c8916594ce1e",
   "metadata": {},
   "outputs": [],
   "source": [
    "def try1():\n",
    "    a =1\n",
    "    b = 5\n",
    "    c = a+b\n",
    "    print(a,b,c)\n",
    "    return sq(c,2)     #return is like break which act as loop and start from beginning\n",
    "    print(\"This won't reflect\")"
   ]
  },
  {
   "cell_type": "code",
   "execution_count": 2,
   "id": "58654622-011a-4d38-895c-bceff47679bf",
   "metadata": {},
   "outputs": [
    {
     "name": "stdout",
     "output_type": "stream",
     "text": [
      "1 5 6\n",
      "36\n"
     ]
    }
   ],
   "source": [
    "print(try1())"
   ]
  },
  {
   "cell_type": "code",
   "execution_count": 10,
   "id": "9074a956-ed1a-488c-9fde-2e29a82e5848",
   "metadata": {},
   "outputs": [
    {
     "name": "stdout",
     "output_type": "stream",
     "text": [
      "16\n"
     ]
    }
   ],
   "source": [
    "print(sq(4,2))"
   ]
  },
  {
   "cell_type": "code",
   "execution_count": 11,
   "id": "dd87fa5f-5484-4e6c-b894-ec22c5fb6711",
   "metadata": {},
   "outputs": [],
   "source": [
    "def r():\n",
    "    a=1\n",
    "    b=3\n",
    "    c=5\n",
    "    return a,b,c"
   ]
  },
  {
   "cell_type": "code",
   "execution_count": 12,
   "id": "cc62696e-565f-4711-9d01-0b5520f2973d",
   "metadata": {},
   "outputs": [],
   "source": [
    "x,y,z = r()"
   ]
  },
  {
   "cell_type": "code",
   "execution_count": 13,
   "id": "6d9de38c-a008-4ef3-879b-408d1e945ee6",
   "metadata": {},
   "outputs": [
    {
     "name": "stdout",
     "output_type": "stream",
     "text": [
      "1 3 5\n"
     ]
    }
   ],
   "source": [
    "print(x,y,z)"
   ]
  },
  {
   "cell_type": "code",
   "execution_count": 16,
   "id": "4b2c6192-1ead-4d02-81c2-e496152fda4e",
   "metadata": {},
   "outputs": [],
   "source": [
    "def add(*args):\n",
    "    total = 0  #simple to use\n",
    "    for num in args:\n",
    "        total += num\n",
    "    return total"
   ]
  },
  {
   "cell_type": "code",
   "execution_count": 17,
   "id": "e8bfc256-9452-44b4-8a3a-c2cfcde3ea11",
   "metadata": {},
   "outputs": [
    {
     "data": {
      "text/plain": [
       "16"
      ]
     },
     "execution_count": 17,
     "metadata": {},
     "output_type": "execute_result"
    }
   ],
   "source": [
    "add(5,4,2,5)"
   ]
  },
  {
   "cell_type": "code",
   "execution_count": 18,
   "id": "5977589f-cd23-46f6-8f80-b7470d96d801",
   "metadata": {},
   "outputs": [],
   "source": [
    "def addition(*args): \n",
    "    total = 0   # initialize total to 0\n",
    "    for i in range(len(args)):\n",
    "        total += args[i]  # add each argument\n",
    "    return total"
   ]
  },
  {
   "cell_type": "code",
   "execution_count": 19,
   "id": "0a1eb80f-0d16-4d4b-9ca3-808d9d563cc2",
   "metadata": {},
   "outputs": [
    {
     "data": {
      "text/plain": [
       "18"
      ]
     },
     "execution_count": 19,
     "metadata": {},
     "output_type": "execute_result"
    }
   ],
   "source": [
    "addition(3,4,5,6)"
   ]
  },
  {
   "cell_type": "code",
   "execution_count": 21,
   "id": "4ce0dab6-a8c2-4392-8ed7-2b39d14ed2b2",
   "metadata": {},
   "outputs": [],
   "source": [
    "def ad(*arg):\n",
    "    total = 0\n",
    "    for num in arg:\n",
    "        total += num\n",
    "    return total"
   ]
  },
  {
   "cell_type": "code",
   "execution_count": 22,
   "id": "30b7a37a-1bef-4718-b484-21e5361a3ad1",
   "metadata": {},
   "outputs": [
    {
     "data": {
      "text/plain": [
       "21"
      ]
     },
     "execution_count": 22,
     "metadata": {},
     "output_type": "execute_result"
    }
   ],
   "source": [
    "ad(4,5,6,6)"
   ]
  },
  {
   "cell_type": "code",
   "execution_count": 16,
   "id": "9bfc9d62-0bfd-40ca-b845-37c912688e03",
   "metadata": {},
   "outputs": [
    {
     "name": "stderr",
     "output_type": "stream",
     "text": [
      "[NbConvertApp] Converting notebook my_functions.ipynb to script\n",
      "[NbConvertApp] Writing 508 bytes to my_functions.py\n"
     ]
    }
   ],
   "source": [
    "!jupyter nbconvert --to script my_functions.ipynb\n"
   ]
  },
  {
   "cell_type": "code",
   "execution_count": 19,
   "id": "7988520c-ab5b-4a55-8a3c-c17c230f7761",
   "metadata": {},
   "outputs": [],
   "source": [
    "import sys\n",
    "sys.path.append(\"D:/[07] Technical Tools/Python/Learing/Youtube/Notes\")\n",
    "import my_functions"
   ]
  },
  {
   "cell_type": "code",
   "execution_count": null,
   "id": "7bac611f-bf2b-41b7-b36d-31bd8d9b8bf3",
   "metadata": {},
   "outputs": [],
   "source": []
  }
 ],
 "metadata": {
  "kernelspec": {
   "display_name": "Python 3 (ipykernel)",
   "language": "python",
   "name": "python3"
  },
  "language_info": {
   "codemirror_mode": {
    "name": "ipython",
    "version": 3
   },
   "file_extension": ".py",
   "mimetype": "text/x-python",
   "name": "python",
   "nbconvert_exporter": "python",
   "pygments_lexer": "ipython3",
   "version": "3.12.7"
  }
 },
 "nbformat": 4,
 "nbformat_minor": 5
}
