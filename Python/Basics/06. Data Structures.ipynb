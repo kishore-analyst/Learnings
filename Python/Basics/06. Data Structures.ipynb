{
 "cells": [
  {
   "cell_type": "markdown",
   "id": "e6ed0046-0f7d-4b1d-aada-31ccfd274b98",
   "metadata": {},
   "source": [
    "# Data Structures"
   ]
  },
  {
   "cell_type": "markdown",
   "id": "9fb27e7a-bf8d-4f2e-8555-dcf7e14c63c8",
   "metadata": {},
   "source": [
    "```\n",
    "List      - ordered   - changable    - dublicates allowed\n",
    "Tuple     - ordered   - unchangable  - dublicates allowed\n",
    "Set       - unordered - mutable      - no dublicates allowed\n",
    "Dictonary - unordered - changable    - no dublicates allowed\n",
    "```"
   ]
  },
  {
   "cell_type": "code",
   "execution_count": 3,
   "id": "ba93aaa5-f79e-48b3-bf2e-ca46e06ce104",
   "metadata": {},
   "outputs": [],
   "source": [
    "L = [1,3,4.4,\"kishore\",3]\n",
    "T = (1,3,4.4,\"kishore\",3)\n",
    "S = {1,3,4.4,\"kishore\",3}\n",
    "D = {\"Age\": 23,\"Name\": \"Kishore\", \"Education\":\"MBA\"}"
   ]
  },
  {
   "cell_type": "code",
   "execution_count": 4,
   "id": "97c9834a-b5c5-4d41-9165-3388449e1cdb",
   "metadata": {},
   "outputs": [
    {
     "name": "stdout",
     "output_type": "stream",
     "text": [
      "The type of L :  <class 'list'>\n",
      "The type of T :  <class 'tuple'>\n",
      "The type of S :  <class 'set'>\n",
      "The type of D :  <class 'dict'>\n"
     ]
    }
   ],
   "source": [
    "print(\"The type of L : \", type(L))\n",
    "print(\"The type of T : \", type(T))\n",
    "print(\"The type of S : \", type(S))\n",
    "print(\"The type of D : \", type(D))"
   ]
  },
  {
   "cell_type": "code",
   "execution_count": 5,
   "id": "3948cd86-959e-4321-b95f-e012d45aa286",
   "metadata": {},
   "outputs": [
    {
     "name": "stdout",
     "output_type": "stream",
     "text": [
      "4.4\n",
      "4.4\n",
      "True\n",
      "Kishore\n"
     ]
    }
   ],
   "source": [
    "print(L[2])\n",
    "print(T[2])\n",
    "print(\"kishore\" in S)\n",
    "print(D[\"Name\"])"
   ]
  },
  {
   "cell_type": "code",
   "execution_count": 6,
   "id": "f3b3f46b-8d9f-4b63-8cb3-40a00dcc3cab",
   "metadata": {},
   "outputs": [
    {
     "name": "stdout",
     "output_type": "stream",
     "text": [
      "[3, 4.4, 'kishore', 3]\n"
     ]
    }
   ],
   "source": [
    "print(L[1:5])"
   ]
  },
  {
   "cell_type": "code",
   "execution_count": 7,
   "id": "0a7199de-0301-496f-bd00-e323472ceeb1",
   "metadata": {},
   "outputs": [
    {
     "name": "stdout",
     "output_type": "stream",
     "text": [
      "[3, 'kishore', 4.4, 3, 1]\n"
     ]
    }
   ],
   "source": [
    "print(L[::-1])"
   ]
  },
  {
   "cell_type": "code",
   "execution_count": 8,
   "id": "311af2b8-e932-4796-add7-dd80bec50464",
   "metadata": {},
   "outputs": [
    {
     "data": {
      "text/plain": [
       "[1, 3, 4.4, 'kishore', 3]"
      ]
     },
     "execution_count": 8,
     "metadata": {},
     "output_type": "execute_result"
    }
   ],
   "source": [
    "L"
   ]
  },
  {
   "cell_type": "code",
   "execution_count": 9,
   "id": "c6f0e79d-b123-4989-a6c1-10900857c82e",
   "metadata": {},
   "outputs": [],
   "source": [
    "L = L + [\"New One\"]"
   ]
  },
  {
   "cell_type": "code",
   "execution_count": 10,
   "id": "d5454787-8629-4a67-808d-504feb035d9b",
   "metadata": {},
   "outputs": [
    {
     "data": {
      "text/plain": [
       "[1, 3, 4.4, 'kishore', 3, 'New One']"
      ]
     },
     "execution_count": 10,
     "metadata": {},
     "output_type": "execute_result"
    }
   ],
   "source": [
    "L"
   ]
  },
  {
   "cell_type": "code",
   "execution_count": 11,
   "id": "1e314430-b4ab-4618-9ea3-38ee8bd515a1",
   "metadata": {},
   "outputs": [],
   "source": [
    "L.append(\"King\")"
   ]
  },
  {
   "cell_type": "code",
   "execution_count": 12,
   "id": "a4a18b58-e629-4415-b217-10b7f7072595",
   "metadata": {},
   "outputs": [
    {
     "data": {
      "text/plain": [
       "[1, 3, 4.4, 'kishore', 3, 'New One', 'King']"
      ]
     },
     "execution_count": 12,
     "metadata": {},
     "output_type": "execute_result"
    }
   ],
   "source": [
    "L"
   ]
  },
  {
   "cell_type": "code",
   "execution_count": 13,
   "id": "694f2dbb-a4f6-4a41-ab43-2ad22471acbc",
   "metadata": {},
   "outputs": [
    {
     "data": {
      "text/plain": [
       "{1, 3, 4.4, 'kishore'}"
      ]
     },
     "execution_count": 13,
     "metadata": {},
     "output_type": "execute_result"
    }
   ],
   "source": [
    "S\n"
   ]
  },
  {
   "cell_type": "code",
   "execution_count": 14,
   "id": "e867ecca-ab45-468a-9d92-85d8294414ea",
   "metadata": {},
   "outputs": [],
   "source": [
    "S.add(5)"
   ]
  },
  {
   "cell_type": "code",
   "execution_count": 15,
   "id": "a120e260-8986-41bd-818d-4cfffc02eca7",
   "metadata": {},
   "outputs": [
    {
     "data": {
      "text/plain": [
       "{1, 3, 4.4, 5, 'kishore'}"
      ]
     },
     "execution_count": 15,
     "metadata": {},
     "output_type": "execute_result"
    }
   ],
   "source": [
    "S"
   ]
  },
  {
   "cell_type": "code",
   "execution_count": 16,
   "id": "909b0ac5-02c9-45a1-9c06-b719e85b44ac",
   "metadata": {},
   "outputs": [],
   "source": [
    "S.update({45,\"Man\"})"
   ]
  },
  {
   "cell_type": "code",
   "execution_count": 17,
   "id": "31ebb0e9-c129-4b12-b5f2-cb5429bcb155",
   "metadata": {},
   "outputs": [
    {
     "data": {
      "text/plain": [
       "{1, 3, 4.4, 45, 5, 'Man', 'kishore'}"
      ]
     },
     "execution_count": 17,
     "metadata": {},
     "output_type": "execute_result"
    }
   ],
   "source": [
    "S"
   ]
  },
  {
   "cell_type": "code",
   "execution_count": 18,
   "id": "16e049c1-707a-4141-81cb-5e3c528d1f02",
   "metadata": {},
   "outputs": [
    {
     "data": {
      "text/plain": [
       "{'Age': 23, 'Name': 'Kishore', 'Education': 'MBA'}"
      ]
     },
     "execution_count": 18,
     "metadata": {},
     "output_type": "execute_result"
    }
   ],
   "source": [
    "D"
   ]
  },
  {
   "cell_type": "code",
   "execution_count": 19,
   "id": "2295d76f-fba2-4002-a7e9-e619d6e2268c",
   "metadata": {},
   "outputs": [],
   "source": [
    "D[\"Grade\"] = \"A\""
   ]
  },
  {
   "cell_type": "code",
   "execution_count": 20,
   "id": "1529e006-4fe0-4b6f-a612-5849ad52b5ec",
   "metadata": {},
   "outputs": [
    {
     "data": {
      "text/plain": [
       "{'Age': 23, 'Name': 'Kishore', 'Education': 'MBA', 'Grade': 'A'}"
      ]
     },
     "execution_count": 20,
     "metadata": {},
     "output_type": "execute_result"
    }
   ],
   "source": [
    "D"
   ]
  },
  {
   "cell_type": "code",
   "execution_count": 23,
   "id": "e5c27aed-510b-4a15-aa54-1451e1c4871b",
   "metadata": {},
   "outputs": [],
   "source": [
    "D2 = {\"A\": L,\"B\": T,\"C\": S,\"D\": D,}"
   ]
  },
  {
   "cell_type": "code",
   "execution_count": 24,
   "id": "17ae2bd0-99c0-4dbb-b96a-3b1a9787edf6",
   "metadata": {},
   "outputs": [
    {
     "data": {
      "text/plain": [
       "(1, 3, 4.4, 'kishore', 3)"
      ]
     },
     "execution_count": 24,
     "metadata": {},
     "output_type": "execute_result"
    }
   ],
   "source": [
    "D2[\"B\"]"
   ]
  },
  {
   "cell_type": "code",
   "execution_count": 25,
   "id": "e96d8ab1-9d45-42c4-80ed-998d054ce28b",
   "metadata": {},
   "outputs": [
    {
     "data": {
      "text/plain": [
       "4.4"
      ]
     },
     "execution_count": 25,
     "metadata": {},
     "output_type": "execute_result"
    }
   ],
   "source": [
    "D2[\"B\"][2]"
   ]
  },
  {
   "cell_type": "code",
   "execution_count": null,
   "id": "b51aca4b-45e5-4557-a3b0-71d1c691161f",
   "metadata": {},
   "outputs": [],
   "source": []
  }
 ],
 "metadata": {
  "kernelspec": {
   "display_name": "Python 3 (ipykernel)",
   "language": "python",
   "name": "python3"
  },
  "language_info": {
   "codemirror_mode": {
    "name": "ipython",
    "version": 3
   },
   "file_extension": ".py",
   "mimetype": "text/x-python",
   "name": "python",
   "nbconvert_exporter": "python",
   "pygments_lexer": "ipython3",
   "version": "3.12.7"
  }
 },
 "nbformat": 4,
 "nbformat_minor": 5
}
