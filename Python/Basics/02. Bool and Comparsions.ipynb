{
 "cells": [
  {
   "cell_type": "markdown",
   "id": "e2dc13ea-2df3-4d3d-9b09-a75fbae554d9",
   "metadata": {},
   "source": [
    "# Bool"
   ]
  },
  {
   "cell_type": "code",
   "execution_count": null,
   "id": "149a6e09-3da8-44ef-a37b-8f243f863257",
   "metadata": {},
   "outputs": [],
   "source": [
    "\"\"\"\n",
    "True, False\n",
    "\n",
    "True and True returns True\n",
    "True and False returns False\n",
    "False and True returns False\n",
    "False and False returns False\n",
    "\n",
    "False or False returns False\n",
    "True or True returns True\n",
    "True or False returns True\n",
    "\n",
    "not(True) returns False\n",
    "not(False) returns True\n",
    "\n",
    "==  # True, if it is equal\n",
    "!=  # True, if it not is equal\n",
    "<   # less than\n",
    ">   # greater than\n",
    "<=   # less than or equal to\n",
    ">=   # greater than or equal to\n",
    "\n",
    "\"\"\""
   ]
  },
  {
   "cell_type": "code",
   "execution_count": 8,
   "id": "827fb300-0b2d-4371-bea0-e6e6f31f255a",
   "metadata": {},
   "outputs": [],
   "source": [
    "a = True\n",
    "b = True\n",
    "c = False\n",
    "d = False"
   ]
  },
  {
   "cell_type": "code",
   "execution_count": 2,
   "id": "54d744dc-9bd8-4314-9c7f-194247a07827",
   "metadata": {},
   "outputs": [
    {
     "name": "stdout",
     "output_type": "stream",
     "text": [
      "True\n"
     ]
    }
   ],
   "source": [
    "print(a)"
   ]
  },
  {
   "cell_type": "code",
   "execution_count": 3,
   "id": "0e7a642e-af3d-4692-9043-7d141f180c65",
   "metadata": {},
   "outputs": [],
   "source": [
    "x = a and b\n",
    "y = a and c\n",
    "z = b and c"
   ]
  },
  {
   "cell_type": "code",
   "execution_count": 4,
   "id": "e2a703f4-caa2-43a0-afb9-94ec30b018d5",
   "metadata": {},
   "outputs": [
    {
     "name": "stdout",
     "output_type": "stream",
     "text": [
      "True False False\n"
     ]
    }
   ],
   "source": [
    "print(x,y,z)"
   ]
  },
  {
   "cell_type": "code",
   "execution_count": 9,
   "id": "6fd2660f-7304-4cd1-8c5d-307fa8bffa52",
   "metadata": {},
   "outputs": [],
   "source": [
    "x = a or b\n",
    "y = a or c\n",
    "z = b or c\n",
    "q = c or d"
   ]
  },
  {
   "cell_type": "code",
   "execution_count": 10,
   "id": "a52b4ec5-e6de-4dc8-b9c7-cca4ec006bf9",
   "metadata": {},
   "outputs": [
    {
     "name": "stdout",
     "output_type": "stream",
     "text": [
      "True True True False\n"
     ]
    }
   ],
   "source": [
    "print(x,y,z, q)"
   ]
  },
  {
   "cell_type": "code",
   "execution_count": 11,
   "id": "e43de12e-9072-4145-a3d3-5f2d9f308261",
   "metadata": {},
   "outputs": [
    {
     "data": {
      "text/plain": [
       "False"
      ]
     },
     "execution_count": 11,
     "metadata": {},
     "output_type": "execute_result"
    }
   ],
   "source": [
    "not(a)"
   ]
  },
  {
   "cell_type": "code",
   "execution_count": 12,
   "id": "479a8440-a733-487b-a394-54beacba4f13",
   "metadata": {},
   "outputs": [
    {
     "data": {
      "text/plain": [
       "True"
      ]
     },
     "execution_count": 12,
     "metadata": {},
     "output_type": "execute_result"
    }
   ],
   "source": [
    "not(d)"
   ]
  },
  {
   "cell_type": "code",
   "execution_count": 13,
   "id": "e273d0cd-9aee-4dce-8ab5-a73ae7598b53",
   "metadata": {},
   "outputs": [
    {
     "data": {
      "text/plain": [
       "True"
      ]
     },
     "execution_count": 13,
     "metadata": {},
     "output_type": "execute_result"
    }
   ],
   "source": [
    "not((a or b) and (b and c))"
   ]
  },
  {
   "cell_type": "markdown",
   "id": "e4f09849-2d66-4d6d-9016-3c8a594a3e87",
   "metadata": {},
   "source": [
    "# Comparisons"
   ]
  },
  {
   "cell_type": "code",
   "execution_count": 14,
   "id": "ba078cab-db02-4158-a9c7-7f66287f4679",
   "metadata": {},
   "outputs": [
    {
     "name": "stdout",
     "output_type": "stream",
     "text": [
      "False\n"
     ]
    }
   ],
   "source": [
    "print(2>3)"
   ]
  },
  {
   "cell_type": "code",
   "execution_count": 15,
   "id": "666bada5-28b6-4cf8-af7b-75b8e5ff55a2",
   "metadata": {},
   "outputs": [
    {
     "name": "stdout",
     "output_type": "stream",
     "text": [
      "<class 'bool'>\n",
      "False\n"
     ]
    }
   ],
   "source": [
    "c = 2>3\n",
    "print(type(c))\n",
    "print(c)"
   ]
  },
  {
   "cell_type": "code",
   "execution_count": 16,
   "id": "376a9e76-04d7-446f-b447-62c812999fef",
   "metadata": {},
   "outputs": [
    {
     "data": {
      "text/plain": [
       "True"
      ]
     },
     "execution_count": 16,
     "metadata": {},
     "output_type": "execute_result"
    }
   ],
   "source": [
    "True and False or True"
   ]
  },
  {
   "cell_type": "code",
   "execution_count": 17,
   "id": "7d25c659-a415-41e0-8ca0-0f6e441f853d",
   "metadata": {},
   "outputs": [
    {
     "data": {
      "text/plain": [
       "True"
      ]
     },
     "execution_count": 17,
     "metadata": {},
     "output_type": "execute_result"
    }
   ],
   "source": [
    "True or False and False    #and is applied first and next or"
   ]
  },
  {
   "cell_type": "code",
   "execution_count": 18,
   "id": "0df7d5b5-5a24-41ff-a4b6-06d2bf6a1ae7",
   "metadata": {},
   "outputs": [
    {
     "data": {
      "text/plain": [
       "False"
      ]
     },
     "execution_count": 18,
     "metadata": {},
     "output_type": "execute_result"
    }
   ],
   "source": [
    "(True or False) and False   #here first or is applied becasue of bracket"
   ]
  },
  {
   "cell_type": "code",
   "execution_count": null,
   "id": "374cb4cc-904b-4cad-86e8-9a4cf08dee20",
   "metadata": {},
   "outputs": [],
   "source": []
  }
 ],
 "metadata": {
  "kernelspec": {
   "display_name": "Python 3 (ipykernel)",
   "language": "python",
   "name": "python3"
  },
  "language_info": {
   "codemirror_mode": {
    "name": "ipython",
    "version": 3
   },
   "file_extension": ".py",
   "mimetype": "text/x-python",
   "name": "python",
   "nbconvert_exporter": "python",
   "pygments_lexer": "ipython3",
   "version": "3.12.7"
  }
 },
 "nbformat": 4,
 "nbformat_minor": 5
}
