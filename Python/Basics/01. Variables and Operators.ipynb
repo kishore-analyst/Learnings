{
 "cells": [
  {
   "cell_type": "markdown",
   "id": "51c0ff33-9e37-4049-afaf-5f470b99d858",
   "metadata": {},
   "source": [
    "# Learning Python"
   ]
  },
  {
   "cell_type": "markdown",
   "id": "8eeebb2b-11b3-48bc-8e73-786e0498b082",
   "metadata": {},
   "source": [
    "### This is my first time using Python"
   ]
  },
  {
   "cell_type": "code",
   "execution_count": 1,
   "id": "d19cee6d-e09c-48ea-a9f3-82c2c0d49b6f",
   "metadata": {},
   "outputs": [
    {
     "name": "stdout",
     "output_type": "stream",
     "text": [
      "Hey this is Kishore\n"
     ]
    }
   ],
   "source": [
    "print(\"Hey this is Kishore\")"
   ]
  },
  {
   "cell_type": "markdown",
   "id": "2f5e223a-bc54-4269-9c7c-951f41ce806c",
   "metadata": {},
   "source": [
    "$a = b+c$"
   ]
  },
  {
   "cell_type": "markdown",
   "id": "285cbae3-cbc3-4770-a7f2-032e42476cee",
   "metadata": {},
   "source": [
    "# Varibles"
   ]
  },
  {
   "cell_type": "markdown",
   "id": "58696f6f-6458-41fe-b4b8-2c5d457cc3cc",
   "metadata": {},
   "source": [
    "## Int and Float"
   ]
  },
  {
   "cell_type": "code",
   "execution_count": 4,
   "id": "69e9788a-f3bb-45de-8f23-60ef1f97e973",
   "metadata": {},
   "outputs": [
    {
     "name": "stdout",
     "output_type": "stream",
     "text": [
      "5\n"
     ]
    }
   ],
   "source": [
    "x = 5\n",
    "print(x)"
   ]
  },
  {
   "cell_type": "code",
   "execution_count": 5,
   "id": "d6b5fdf3-848b-4dae-8771-bb2d0ad8bd53",
   "metadata": {},
   "outputs": [
    {
     "name": "stdout",
     "output_type": "stream",
     "text": [
      "45.2\n"
     ]
    }
   ],
   "source": [
    "y = 45.2\n",
    "print(y)"
   ]
  },
  {
   "cell_type": "code",
   "execution_count": 6,
   "id": "778becb2-724f-409f-b21b-f727def93f14",
   "metadata": {},
   "outputs": [
    {
     "name": "stdout",
     "output_type": "stream",
     "text": [
      "Variable   Type     Data/Info\n",
      "-----------------------------\n",
      "x          int      5\n",
      "y          float    45.2\n"
     ]
    }
   ],
   "source": [
    "%whos"
   ]
  },
  {
   "cell_type": "code",
   "execution_count": 7,
   "id": "59e528ad-4a8f-4644-9d15-0de4e33de005",
   "metadata": {},
   "outputs": [],
   "source": [
    "a,b,c,d = 5,2.3,5,88"
   ]
  },
  {
   "cell_type": "code",
   "execution_count": 8,
   "id": "9dc89a32-7f76-4588-acb0-22e1b3fe4d85",
   "metadata": {},
   "outputs": [
    {
     "name": "stdout",
     "output_type": "stream",
     "text": [
      "Variable   Type     Data/Info\n",
      "-----------------------------\n",
      "a          int      5\n",
      "b          float    2.3\n",
      "c          int      5\n",
      "d          int      88\n",
      "x          int      5\n",
      "y          float    45.2\n"
     ]
    }
   ],
   "source": [
    "%whos"
   ]
  },
  {
   "cell_type": "markdown",
   "id": "a68816fb-950d-40fb-aac8-2ecf5dfdbf77",
   "metadata": {},
   "source": [
    "## Sting and Boolean"
   ]
  },
  {
   "cell_type": "code",
   "execution_count": 21,
   "id": "d40defe1-2680-416c-b1b9-53af8b252c08",
   "metadata": {},
   "outputs": [],
   "source": [
    "name = \"Kishore is learning Pyhton\""
   ]
  },
  {
   "cell_type": "code",
   "execution_count": 22,
   "id": "021aaf11-70cc-4585-89c5-b40e36fc62ec",
   "metadata": {},
   "outputs": [
    {
     "name": "stdout",
     "output_type": "stream",
     "text": [
      "Kishore is learning Pyhton\n"
     ]
    }
   ],
   "source": [
    "print(name)"
   ]
  },
  {
   "cell_type": "code",
   "execution_count": 25,
   "id": "34242f93-3a1e-412f-b01d-02b05dd43289",
   "metadata": {},
   "outputs": [],
   "source": [
    "is_sunny = True\n",
    "is_raining = False\n",
    "is_chill = False"
   ]
  },
  {
   "cell_type": "code",
   "execution_count": 26,
   "id": "1efb2d31-690a-4e01-9c3e-14d596a6d852",
   "metadata": {},
   "outputs": [],
   "source": [
    "del is_chill"
   ]
  },
  {
   "cell_type": "code",
   "execution_count": 18,
   "id": "001e69ff-dcc2-426e-a52c-162888c44cbf",
   "metadata": {},
   "outputs": [
    {
     "name": "stdout",
     "output_type": "stream",
     "text": [
      "True\n",
      "False\n"
     ]
    }
   ],
   "source": [
    "print(is_sunny)    \n",
    "print(is_raining) "
   ]
  },
  {
   "cell_type": "code",
   "execution_count": 27,
   "id": "1829bea7-6bc2-44ed-96f6-8442b8cf5bbb",
   "metadata": {},
   "outputs": [
    {
     "name": "stdout",
     "output_type": "stream",
     "text": [
      "Variable     Type     Data/Info\n",
      "-------------------------------\n",
      "a            int      1\n",
      "b            int      1\n",
      "c            int      5\n",
      "d            int      88\n",
      "is_raining   bool     False\n",
      "is_sunny     bool     True\n",
      "name         str      Kishore is learning Pyhton\n",
      "x            int      5\n",
      "y            float    45.2\n"
     ]
    }
   ],
   "source": [
    "%whos"
   ]
  },
  {
   "cell_type": "markdown",
   "id": "923561a2-d56c-4094-9792-d6f8d0260c78",
   "metadata": {},
   "source": [
    "## Complex"
   ]
  },
  {
   "cell_type": "code",
   "execution_count": 3,
   "id": "8eb73bc2-68c8-4835-96c4-309cdafb3679",
   "metadata": {},
   "outputs": [
    {
     "name": "stdout",
     "output_type": "stream",
     "text": [
      "(4+6j)\n"
     ]
    }
   ],
   "source": [
    "q = 4+6j\n",
    "print(q)"
   ]
  },
  {
   "cell_type": "code",
   "execution_count": 4,
   "id": "a433d3b8-3da1-4a76-8e81-72800e66fe3f",
   "metadata": {},
   "outputs": [
    {
     "name": "stdout",
     "output_type": "stream",
     "text": [
      "Variable   Type       Data/Info\n",
      "-------------------------------\n",
      "q          complex    (4+6j)\n"
     ]
    }
   ],
   "source": [
    "%whos"
   ]
  },
  {
   "cell_type": "markdown",
   "id": "69e139e2-7bf7-4775-803c-8de35eba7a71",
   "metadata": {},
   "source": [
    "# Operators"
   ]
  },
  {
   "cell_type": "markdown",
   "id": "1599da3b-db11-4e6f-a7f8-9f45557e5470",
   "metadata": {},
   "source": [
    "```\n",
    " +    #Addition\n",
    " -    #Subtraction\n",
    " /    #Division eg. 10/3 = 3.3333\n",
    " //   #Floor Division eg. 10/3 = 3\n",
    " *    #Multiplication\n",
    " **   #to the power of eg. 2**3 = 8\n",
    "```"
   ]
  },
  {
   "cell_type": "code",
   "execution_count": 8,
   "id": "de8ef7c7-8009-4cd8-9636-831f1d0df7f7",
   "metadata": {},
   "outputs": [],
   "source": [
    "a = 1\n",
    "b = 5\n",
    "c = 2.5\n",
    "d = \"Heyy\"\n",
    "e = 3+2j\n"
   ]
  },
  {
   "cell_type": "code",
   "execution_count": 9,
   "id": "6b99669e-8c9c-4c21-97bd-a224f8f391db",
   "metadata": {},
   "outputs": [
    {
     "name": "stdout",
     "output_type": "stream",
     "text": [
      "Variable   Type       Data/Info\n",
      "-------------------------------\n",
      "a          int        1\n",
      "b          int        5\n",
      "c          float      2.5\n",
      "d          str        Heyy\n",
      "e          complex    (3+2j)\n",
      "q          complex    (4+6j)\n"
     ]
    }
   ],
   "source": [
    "%whos"
   ]
  },
  {
   "cell_type": "code",
   "execution_count": 12,
   "id": "cd31699c-13ff-4471-9c1b-075a7295e0e9",
   "metadata": {},
   "outputs": [
    {
     "name": "stdout",
     "output_type": "stream",
     "text": [
      "6\n"
     ]
    }
   ],
   "source": [
    "SumOfAandB = a+b\n",
    "print(SumOfAandB)"
   ]
  },
  {
   "cell_type": "code",
   "execution_count": 16,
   "id": "8c9e6346-add0-4a7d-8c86-d87f66715f27",
   "metadata": {},
   "outputs": [
    {
     "name": "stdout",
     "output_type": "stream",
     "text": [
      "3.5\n"
     ]
    },
    {
     "data": {
      "text/plain": [
       "float"
      ]
     },
     "execution_count": 16,
     "metadata": {},
     "output_type": "execute_result"
    }
   ],
   "source": [
    "SumOfAandC = a+c\n",
    "print(SumOfAandC)\n",
    "type(SumOfAandC)"
   ]
  },
  {
   "cell_type": "code",
   "execution_count": 17,
   "id": "1212289a-4db4-4050-940c-03260ca7b04e",
   "metadata": {},
   "outputs": [
    {
     "name": "stdout",
     "output_type": "stream",
     "text": [
      "7.2\n"
     ]
    }
   ],
   "source": [
    "value = ((a+b)**2)/b\n",
    "print(value)"
   ]
  },
  {
   "cell_type": "code",
   "execution_count": 18,
   "id": "618d259f-f9d0-46c7-bc73-788be1f1eec6",
   "metadata": {},
   "outputs": [
    {
     "data": {
      "text/plain": [
       "6.666666666666667"
      ]
     },
     "execution_count": 18,
     "metadata": {},
     "output_type": "execute_result"
    }
   ],
   "source": [
    "20/3"
   ]
  },
  {
   "cell_type": "code",
   "execution_count": 19,
   "id": "8e203348-f2f5-404d-826d-155a4ff670db",
   "metadata": {},
   "outputs": [
    {
     "data": {
      "text/plain": [
       "6"
      ]
     },
     "execution_count": 19,
     "metadata": {},
     "output_type": "execute_result"
    }
   ],
   "source": [
    "20//3"
   ]
  },
  {
   "cell_type": "code",
   "execution_count": 20,
   "id": "fd21ab80-598a-4e4f-a0dc-d4199198f263",
   "metadata": {},
   "outputs": [
    {
     "data": {
      "text/plain": [
       "6"
      ]
     },
     "execution_count": 20,
     "metadata": {},
     "output_type": "execute_result"
    }
   ],
   "source": [
    "_ #underscore will is the place where the unassigned last value stored"
   ]
  },
  {
   "cell_type": "code",
   "execution_count": null,
   "id": "d9060053-9efa-4584-9b15-05dcc0e70488",
   "metadata": {},
   "outputs": [],
   "source": []
  }
 ],
 "metadata": {
  "kernelspec": {
   "display_name": "Python 3 (ipykernel)",
   "language": "python",
   "name": "python3"
  },
  "language_info": {
   "codemirror_mode": {
    "name": "ipython",
    "version": 3
   },
   "file_extension": ".py",
   "mimetype": "text/x-python",
   "name": "python",
   "nbconvert_exporter": "python",
   "pygments_lexer": "ipython3",
   "version": "3.12.7"
  }
 },
 "nbformat": 4,
 "nbformat_minor": 5
}
