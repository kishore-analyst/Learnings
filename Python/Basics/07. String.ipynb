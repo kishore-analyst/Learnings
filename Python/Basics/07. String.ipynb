{
 "cells": [
  {
   "cell_type": "markdown",
   "id": "b883e381-eb81-4513-bf8e-5602b3c03b3f",
   "metadata": {},
   "source": [
    "# String"
   ]
  },
  {
   "cell_type": "code",
   "execution_count": null,
   "id": "33865a09-9300-48e0-9b0c-2c6b46453218",
   "metadata": {},
   "outputs": [],
   "source": [
    "#Strings are immutable that is it can be edited or changed after creating the string.\n"
   ]
  },
  {
   "cell_type": "code",
   "execution_count": 1,
   "id": "b653e9ad-e91b-4a49-bf91-8a2397ede48d",
   "metadata": {},
   "outputs": [],
   "source": [
    "s = \"This is the process of learning python\"\n",
    "t = \"This is the one line string\"\n",
    "r = \"\"\" This is line 1\n",
    "this is line 2\n",
    "this is line 3\"\"\""
   ]
  },
  {
   "cell_type": "code",
   "execution_count": 2,
   "id": "2361d061-4d7b-44c9-be84-d75dc07fb8da",
   "metadata": {},
   "outputs": [
    {
     "name": "stdout",
     "output_type": "stream",
     "text": [
      "This is the process of learning python This is the one line string  This is line 1\n",
      "this is line 2\n",
      "this is line 3\n"
     ]
    }
   ],
   "source": [
    "print(s,t,r)"
   ]
  },
  {
   "cell_type": "code",
   "execution_count": 4,
   "id": "bd6b131f-478b-4a64-bac2-ff7facf76d81",
   "metadata": {},
   "outputs": [
    {
     "name": "stdout",
     "output_type": "stream",
     "text": [
      " The following options are available:\n",
      "                -a   : does nothing\n",
      "                -b   : also does nothing\n",
      "This type of order can be used to print and format accordingly\n",
      "\n"
     ]
    }
   ],
   "source": [
    "print(\"\"\" The following options are available:             #mutliline string\n",
    "                -a   : does nothing \n",
    "                -b   : also does nothing\n",
    "This type of order can be used to print and format accordingly\n",
    "\"\"\")"
   ]
  },
  {
   "cell_type": "code",
   "execution_count": 7,
   "id": "5e7ed638-ccc0-4105-b37b-56bfaa1a4ee4",
   "metadata": {},
   "outputs": [
    {
     "name": "stdout",
     "output_type": "stream",
     "text": [
      "is is t\n"
     ]
    }
   ],
   "source": [
    "s = \"This is the trial\"\n",
    "print(s[2:9])  # so here the values returns from 2 to 8 which means it doesn not return the 9th value"
   ]
  },
  {
   "cell_type": "code",
   "execution_count": 9,
   "id": "b0a156f7-786f-4ae6-b104-40770ce2d94e",
   "metadata": {},
   "outputs": [
    {
     "name": "stdout",
     "output_type": "stream",
     "text": [
      "l\n"
     ]
    }
   ],
   "source": [
    "print(s[-1])"
   ]
  },
  {
   "cell_type": "code",
   "execution_count": 19,
   "id": "5e306644-7027-4b9f-9df5-e1cd2e99652a",
   "metadata": {},
   "outputs": [
    {
     "name": "stdout",
     "output_type": "stream",
     "text": [
      "tria\n"
     ]
    }
   ],
   "source": [
    "print(s[-5:-1])"
   ]
  },
  {
   "cell_type": "code",
   "execution_count": 22,
   "id": "d3856c6c-6f9a-44dd-9fcc-8a7e5a59951b",
   "metadata": {},
   "outputs": [
    {
     "name": "stdout",
     "output_type": "stream",
     "text": [
      "Ti st\n"
     ]
    }
   ],
   "source": [
    "print(s[0:10:2])  # s[start:end:step]"
   ]
  },
  {
   "cell_type": "code",
   "execution_count": 23,
   "id": "1ee6ed69-c6e1-4652-8461-879aa4b9ab24",
   "metadata": {},
   "outputs": [
    {
     "data": {
      "text/plain": [
       "'This is the trial'"
      ]
     },
     "execution_count": 23,
     "metadata": {},
     "output_type": "execute_result"
    }
   ],
   "source": [
    "s[0:]"
   ]
  },
  {
   "cell_type": "code",
   "execution_count": 24,
   "id": "fff327ce-7ffd-4aa3-b39b-203cd3e71cf3",
   "metadata": {},
   "outputs": [
    {
     "data": {
      "text/plain": [
       "'lairt eht si sihT'"
      ]
     },
     "execution_count": 24,
     "metadata": {},
     "output_type": "execute_result"
    }
   ],
   "source": [
    "s[::-1]"
   ]
  },
  {
   "cell_type": "markdown",
   "id": "edb2b26c-6709-4ba5-bdd7-86bf59bd4249",
   "metadata": {},
   "source": [
    "# String Functions"
   ]
  },
  {
   "cell_type": "code",
   "execution_count": 31,
   "id": "dd31607e-1455-4cc2-bfe2-a30f7cc589ae",
   "metadata": {},
   "outputs": [],
   "source": [
    "a = \"        this is the     pracitce   session      \"\n",
    "b = a.strip()  # this strip function remove the space in the beginning and the end "
   ]
  },
  {
   "cell_type": "code",
   "execution_count": 30,
   "id": "dcbf53a0-bb95-48f5-9a15-882d17910921",
   "metadata": {},
   "outputs": [
    {
     "name": "stdout",
     "output_type": "stream",
     "text": [
      "this is the     pracitce   session\n"
     ]
    }
   ],
   "source": [
    "print(b)"
   ]
  },
  {
   "cell_type": "code",
   "execution_count": 37,
   "id": "9da3af59-63bc-4e0a-8af5-d16eaf7ca873",
   "metadata": {},
   "outputs": [],
   "source": [
    "a =  \"THIS IS the TesT fOR LowER and UPpEr CasE\"\n",
    "b = a.lower()\n",
    "c = a.upper()"
   ]
  },
  {
   "cell_type": "code",
   "execution_count": 42,
   "id": "526c5bfa-d942-4cd2-b6f3-45b30270a1f1",
   "metadata": {},
   "outputs": [
    {
     "name": "stdout",
     "output_type": "stream",
     "text": [
      "this is the test for lower and upper case\n",
      "THIS IS THE TEST FOR LOWER AND UPPER CASE\n"
     ]
    }
   ],
   "source": [
    "print(b)\n",
    "print(c)"
   ]
  },
  {
   "cell_type": "code",
   "execution_count": 44,
   "id": "9effa062-0875-4460-b6e4-8416c6ec9759",
   "metadata": {},
   "outputs": [],
   "source": [
    "a = \"two + two is equal to four\"\n",
    "b = a.replace(\"+\", \"plus\")"
   ]
  },
  {
   "cell_type": "code",
   "execution_count": 46,
   "id": "83f643eb-57a1-4397-ab92-d5e8a1fe5f45",
   "metadata": {},
   "outputs": [
    {
     "name": "stdout",
     "output_type": "stream",
     "text": [
      "two plus two is equal to four\n"
     ]
    }
   ],
   "source": [
    "print(b)"
   ]
  },
  {
   "cell_type": "code",
   "execution_count": 49,
   "id": "d787acb4-2cd4-420e-9ba6-48e3419ba4cd",
   "metadata": {},
   "outputs": [],
   "source": [
    "a = \"Kishore;Kumar;M\"\n",
    "b = a.split(\";\")"
   ]
  },
  {
   "cell_type": "code",
   "execution_count": 50,
   "id": "9e40d469-b097-4989-9089-ff7c0c7bbbfd",
   "metadata": {},
   "outputs": [
    {
     "name": "stdout",
     "output_type": "stream",
     "text": [
      "['Kishore', 'Kumar', 'M']\n"
     ]
    }
   ],
   "source": [
    "print(b)"
   ]
  },
  {
   "cell_type": "code",
   "execution_count": 52,
   "id": "b6cb924e-694c-45d4-a15d-b804fd62ae20",
   "metadata": {},
   "outputs": [
    {
     "name": "stdout",
     "output_type": "stream",
     "text": [
      "Kishore kumar\n"
     ]
    }
   ],
   "source": [
    "x = \"kishore kumar\"\n",
    "print(x.capitalize())\n"
   ]
  },
  {
   "cell_type": "code",
   "execution_count": 54,
   "id": "8156a055-99fd-44c0-aeb3-1b1b0b38d40c",
   "metadata": {},
   "outputs": [
    {
     "ename": "TypeError",
     "evalue": "count() takes at least 1 argument (0 given)",
     "output_type": "error",
     "traceback": [
      "\u001b[1;31m---------------------------------------------------------------------------\u001b[0m",
      "\u001b[1;31mTypeError\u001b[0m                                 Traceback (most recent call last)",
      "Cell \u001b[1;32mIn[54], line 1\u001b[0m\n\u001b[1;32m----> 1\u001b[0m \u001b[38;5;28mprint\u001b[39m(x\u001b[38;5;241m.\u001b[39mcount())\n",
      "\u001b[1;31mTypeError\u001b[0m: count() takes at least 1 argument (0 given)"
     ]
    }
   ],
   "source": [
    "print(x.count())"
   ]
  },
  {
   "cell_type": "code",
   "execution_count": 1,
   "id": "31e263f1-1260-43af-881c-68119338754d",
   "metadata": {},
   "outputs": [
    {
     "data": {
      "text/plain": [
       "False"
      ]
     },
     "execution_count": 1,
     "metadata": {},
     "output_type": "execute_result"
    }
   ],
   "source": [
    "\"fffg\" in \"fdsghkjahlgnlanslg\""
   ]
  },
  {
   "cell_type": "code",
   "execution_count": 2,
   "id": "443e5ee1-a5a0-4723-addd-e5ea8dcbd74d",
   "metadata": {},
   "outputs": [
    {
     "data": {
      "text/plain": [
       "True"
      ]
     },
     "execution_count": 2,
     "metadata": {},
     "output_type": "execute_result"
    }
   ],
   "source": [
    "\"abc\" in \"dfkajabcgag\""
   ]
  },
  {
   "cell_type": "code",
   "execution_count": 3,
   "id": "9451c523-96e3-448f-ace0-5234a32c5e59",
   "metadata": {},
   "outputs": [
    {
     "data": {
      "text/plain": [
       "True"
      ]
     },
     "execution_count": 3,
     "metadata": {},
     "output_type": "execute_result"
    }
   ],
   "source": [
    "\"abs\" == \"abs\""
   ]
  },
  {
   "cell_type": "code",
   "execution_count": 4,
   "id": "bd957b6b-5bcc-4574-9c7c-c4c3a7171240",
   "metadata": {},
   "outputs": [
    {
     "data": {
      "text/plain": [
       "True"
      ]
     },
     "execution_count": 4,
     "metadata": {},
     "output_type": "execute_result"
    }
   ],
   "source": [
    "\"abc\" < \"def\""
   ]
  },
  {
   "cell_type": "code",
   "execution_count": 5,
   "id": "06c669e7-6a7d-4cbe-904c-10cba3c312b3",
   "metadata": {},
   "outputs": [
    {
     "data": {
      "text/plain": [
       "True"
      ]
     },
     "execution_count": 5,
     "metadata": {},
     "output_type": "execute_result"
    }
   ],
   "source": [
    "\"def\" < \"z\""
   ]
  },
  {
   "cell_type": "code",
   "execution_count": 6,
   "id": "24ba9981-269e-4aaf-9604-8be7b351b537",
   "metadata": {},
   "outputs": [
    {
     "data": {
      "text/plain": [
       "False"
      ]
     },
     "execution_count": 6,
     "metadata": {},
     "output_type": "execute_result"
    }
   ],
   "source": [
    "\"def\" == \"o\""
   ]
  },
  {
   "cell_type": "code",
   "execution_count": 7,
   "id": "7428b4c8-8f8b-4c88-aea7-4b87d58b9231",
   "metadata": {},
   "outputs": [
    {
     "data": {
      "text/plain": [
       "\"we are learnig 'Python'\""
      ]
     },
     "execution_count": 7,
     "metadata": {},
     "output_type": "execute_result"
    }
   ],
   "source": [
    "\"we are learnig 'Python'\""
   ]
  },
  {
   "cell_type": "code",
   "execution_count": 8,
   "id": "311f3fa3-ce63-4553-8f7d-ec7f5d51fae2",
   "metadata": {},
   "outputs": [
    {
     "ename": "SyntaxError",
     "evalue": "invalid syntax (2544216950.py, line 1)",
     "output_type": "error",
     "traceback": [
      "\u001b[1;36m  Cell \u001b[1;32mIn[8], line 1\u001b[1;36m\u001b[0m\n\u001b[1;33m    'we are learning 'python''\u001b[0m\n\u001b[1;37m                      ^\u001b[0m\n\u001b[1;31mSyntaxError\u001b[0m\u001b[1;31m:\u001b[0m invalid syntax\n"
     ]
    }
   ],
   "source": [
    "'we are learning 'python''"
   ]
  },
  {
   "cell_type": "code",
   "execution_count": 9,
   "id": "9eef2908-587e-4d01-8caa-91a345078a1e",
   "metadata": {},
   "outputs": [
    {
     "data": {
      "text/plain": [
       "'we are leaning\"python\" here'"
      ]
     },
     "execution_count": 9,
     "metadata": {},
     "output_type": "execute_result"
    }
   ],
   "source": [
    "\"we are leaning\\\"python\\\" here\""
   ]
  },
  {
   "cell_type": "code",
   "execution_count": 10,
   "id": "a110e0cc-8e68-4808-9b9c-baa59eee4cc5",
   "metadata": {},
   "outputs": [
    {
     "name": "stdout",
     "output_type": "stream",
     "text": [
      "we are \n",
      " now on another line\n"
     ]
    }
   ],
   "source": [
    "print(\"we are \\n now on another line\") # new line"
   ]
  },
  {
   "cell_type": "code",
   "execution_count": 11,
   "id": "8e0ab6d4-5494-45b4-bd95-ce812962ea36",
   "metadata": {},
   "outputs": [
    {
     "name": "stdout",
     "output_type": "stream",
     "text": [
      "we are \t now on another line\n"
     ]
    }
   ],
   "source": [
    "print(\"we are \\t now on another line\") # tab space"
   ]
  },
  {
   "cell_type": "code",
   "execution_count": 14,
   "id": "4657d162-637d-4aeb-bde8-ce5709323f0a",
   "metadata": {},
   "outputs": [
    {
     "name": "stdout",
     "output_type": "stream",
     "text": [
      "c:\n",
      "ame\\drive\n"
     ]
    },
    {
     "name": "stderr",
     "output_type": "stream",
     "text": [
      "<>:1: SyntaxWarning: invalid escape sequence '\\d'\n",
      "<>:1: SyntaxWarning: invalid escape sequence '\\d'\n",
      "C:\\Users\\kisho\\AppData\\Local\\Temp\\ipykernel_12180\\1764464154.py:1: SyntaxWarning: invalid escape sequence '\\d'\n",
      "  print(\"c:\\name\\drive\")  #here \\n is treated as key word for new line\n"
     ]
    }
   ],
   "source": [
    "print(\"c:\\name\\drive\")  #here \\n is treated as key word for new line\n"
   ]
  },
  {
   "cell_type": "code",
   "execution_count": 17,
   "id": "45480dbc-0dce-4361-94b3-ba3934805215",
   "metadata": {},
   "outputs": [
    {
     "name": "stdout",
     "output_type": "stream",
     "text": [
      "c:\\name\\drive\n"
     ]
    }
   ],
   "source": [
    "print(r\"c:\\name\\drive\")  #here the r is used in front of the string which tells the string is raw no key words"
   ]
  },
  {
   "cell_type": "code",
   "execution_count": null,
   "id": "b05be58c-04b7-4ab6-99c4-3f5fdc61367a",
   "metadata": {},
   "outputs": [],
   "source": []
  }
 ],
 "metadata": {
  "kernelspec": {
   "display_name": "Python 3 (ipykernel)",
   "language": "python",
   "name": "python3"
  },
  "language_info": {
   "codemirror_mode": {
    "name": "ipython",
    "version": 3
   },
   "file_extension": ".py",
   "mimetype": "text/x-python",
   "name": "python",
   "nbconvert_exporter": "python",
   "pygments_lexer": "ipython3",
   "version": "3.12.7"
  }
 },
 "nbformat": 4,
 "nbformat_minor": 5
}
