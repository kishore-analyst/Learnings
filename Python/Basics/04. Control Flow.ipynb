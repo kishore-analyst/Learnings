{
 "cells": [
  {
   "cell_type": "markdown",
   "id": "3bda42f9-6645-4eb0-9cd2-5dce1589bae8",
   "metadata": {},
   "source": [
    "# If Condition"
   ]
  },
  {
   "cell_type": "markdown",
   "id": "db5ede83-77ae-4e70-91d0-8146dfda013d",
   "metadata": {},
   "source": [
    "## Task: print only the bigger number\n",
    "---"
   ]
  },
  {
   "cell_type": "code",
   "execution_count": 3,
   "id": "8d107538-4471-4ec3-9e89-4b3a9761662d",
   "metadata": {},
   "outputs": [
    {
     "name": "stdin",
     "output_type": "stream",
     "text": [
      "a =  6\n",
      "b =  4\n"
     ]
    },
    {
     "name": "stdout",
     "output_type": "stream",
     "text": [
      "6\n",
      "'a is bigger than b'\n"
     ]
    }
   ],
   "source": [
    "a = int(input(\"a = \"))\n",
    "b = int(input(\"b = \"))\n",
    "\n",
    "if a>b:\n",
    "    print(a)\n",
    "    print(\"'a is bigger than b'\")"
   ]
  },
  {
   "cell_type": "code",
   "execution_count": 4,
   "id": "a5e86e72-31f6-432b-b8ea-5f39f379b936",
   "metadata": {},
   "outputs": [
    {
     "name": "stdin",
     "output_type": "stream",
     "text": [
      "a =  40\n",
      "b =  25\n"
     ]
    },
    {
     "name": "stdout",
     "output_type": "stream",
     "text": [
      "40\n",
      "'a is bigger than b'\n"
     ]
    }
   ],
   "source": [
    "a = int(input(\"a = \"))\n",
    "b = int(input(\"b = \"))\n",
    "\n",
    "if a>b:\n",
    "    print(a)\n",
    "    print(\"'a is bigger than b'\")\n",
    "if b>a:\n",
    "    print(a)\n",
    "    print(\"'b is bigger than a'\")"
   ]
  },
  {
   "cell_type": "markdown",
   "id": "39063543-0ca8-4e32-8b98-a695211bfea1",
   "metadata": {},
   "source": [
    "##  If-Else\n",
    "---"
   ]
  },
  {
   "cell_type": "code",
   "execution_count": 5,
   "id": "05787ebc-f8ca-4dd2-96a4-a4c7009e5383",
   "metadata": {},
   "outputs": [
    {
     "name": "stdin",
     "output_type": "stream",
     "text": [
      "a =  40\n",
      "b =  22\n"
     ]
    },
    {
     "name": "stdout",
     "output_type": "stream",
     "text": [
      "40\n",
      "'a is bigger than b'\n"
     ]
    }
   ],
   "source": [
    "a = int(input(\"a = \"))\n",
    "b = int(input(\"b = \"))\n",
    "\n",
    "if a>b:\n",
    "    print(a)\n",
    "    print(\"'a is bigger than b'\")\n",
    "else:\n",
    "    print(a)\n",
    "    print(\"'b is bigger than a'\")"
   ]
  },
  {
   "cell_type": "markdown",
   "id": "8c9b91b2-43bf-4a57-9652-7b870c6bb2fe",
   "metadata": {},
   "source": [
    "## If-Elif-Else\n",
    "---"
   ]
  },
  {
   "cell_type": "code",
   "execution_count": 13,
   "id": "cfca1942-e226-4148-bfa3-43ed577fb501",
   "metadata": {},
   "outputs": [
    {
     "name": "stdout",
     "output_type": "stream",
     "text": [
      "b is greater than a\n"
     ]
    }
   ],
   "source": [
    "a = 10\n",
    "b = 20\n",
    "\n",
    "if a>b:\n",
    "    print(\"a is larger than b\")\n",
    "elif a==b:\n",
    "    print(\"a is equal to b\")\n",
    "elif a>=b:\n",
    "    print(\"a is greater than or equal to b\")\n",
    "else:\n",
    "    print(\"b is greater than a\")"
   ]
  },
  {
   "cell_type": "code",
   "execution_count": 13,
   "id": "1d62b285-1a55-4a92-9bec-dc98a0955452",
   "metadata": {},
   "outputs": [
    {
     "name": "stdin",
     "output_type": "stream",
     "text": [
      "Marks: 86\n"
     ]
    },
    {
     "name": "stdout",
     "output_type": "stream",
     "text": [
      "Performer\n"
     ]
    }
   ],
   "source": [
    "a = int(input(\"Marks:\"))\n",
    "\n",
    "if a >= 90:\n",
    "    print(\"Topper\")\n",
    "elif a < 90 and a >= 80:\n",
    "    print(\"Performer\")\n",
    "elif a < 80 and a >= 70:\n",
    "    print(\"Average\")\n",
    "else:\n",
    "    print(\"below average\")\n",
    "    "
   ]
  },
  {
   "cell_type": "code",
   "execution_count": 16,
   "id": "32cad6d7-88a6-4afb-814c-3ef9e4676b71",
   "metadata": {},
   "outputs": [
    {
     "name": "stdout",
     "output_type": "stream",
     "text": [
      "Not >10\n"
     ]
    }
   ],
   "source": [
    "a = 4\n",
    "\n",
    "if a>10:\n",
    "    print(\">10\")\n",
    "elif not(a>10):\n",
    "    print(\"Not >10\")"
   ]
  },
  {
   "cell_type": "markdown",
   "id": "32ea1227-1997-4a13-b3e4-8527acd631a1",
   "metadata": {},
   "source": [
    "## short hand if \n",
    "---"
   ]
  },
  {
   "cell_type": "code",
   "execution_count": 23,
   "id": "15d93031-b5cd-4513-b6c8-5a79b0b930ed",
   "metadata": {},
   "outputs": [
    {
     "name": "stdout",
     "output_type": "stream",
     "text": [
      "b is greater than a\n"
     ]
    }
   ],
   "source": [
    "a = 10\n",
    "b = 20\n",
    "# there is a option to make the code shorter but its not advicable as it brings confusion\n",
    "print(\"a is larger than b\") if a>b else print(\"a is equal to b\") if a==b else print(\"a is greater than or equal to b\")if a>=b else print(\"b is greater than a\")"
   ]
  },
  {
   "cell_type": "markdown",
   "id": "c4455432-e4b0-48fc-bbf3-2dbb8f3d7d78",
   "metadata": {},
   "source": [
    "## Nested If"
   ]
  },
  {
   "cell_type": "code",
   "execution_count": 22,
   "id": "e684fb18-db17-4e78-9909-083496ebc5e0",
   "metadata": {},
   "outputs": [
    {
     "name": "stdin",
     "output_type": "stream",
     "text": [
      "value of a =  19\n"
     ]
    },
    {
     "name": "stdout",
     "output_type": "stream",
     "text": [
      ">10\n",
      "<=20\n"
     ]
    }
   ],
   "source": [
    "a = int(input(\"value of a = \"))\n",
    "\n",
    "if a>10:\n",
    "    print(\">10\")\n",
    "    if a>20:\n",
    "        print(\">20\")\n",
    "    else:\n",
    "        print(\"<=20\")"
   ]
  },
  {
   "cell_type": "markdown",
   "id": "7ea8b6c3-af51-47f5-bc6f-54d6039f02e1",
   "metadata": {},
   "source": [
    "## Task\n",
    "---"
   ]
  },
  {
   "cell_type": "code",
   "execution_count": 12,
   "id": "7e34697d-f18e-4fdf-ae1b-ab51e8b8a8cf",
   "metadata": {},
   "outputs": [
    {
     "name": "stdin",
     "output_type": "stream",
     "text": [
      "Enter the Value:  3.6\n"
     ]
    },
    {
     "name": "stdout",
     "output_type": "stream",
     "text": [
      "Integer = 3\n",
      "Odd\n"
     ]
    }
   ],
   "source": [
    "\"\"\"\n",
    "User will enter a floating point number let say 238.2115.\n",
    "My task is to find out the interger portion before the point (in this case 238) and \n",
    "thenn check if that integer portion is an even number or not?\n",
    "\"\"\"\n",
    "\n",
    "x = float(input(\"Enter the Value: \"))\n",
    "y = round(x)\n",
    "\n",
    "if x>0:\n",
    "    if y>x:\n",
    "        intPortion = y-1\n",
    "    else:\n",
    "        intPortion = y\n",
    "else:\n",
    "    if y<x:\n",
    "        intPortion = y+1\n",
    "    else:\n",
    "        intPortion = y\n",
    "print(\"Integer =\", intPortion)\n",
    "if intPortion%2 == 0:\n",
    "    print(\"Even\")\n",
    "else:\n",
    "    print(\"Odd\")\n",
    "    "
   ]
  },
  {
   "cell_type": "markdown",
   "id": "1eaab243-c638-4808-a16b-cc62a216f3bc",
   "metadata": {},
   "source": [
    "# Loops"
   ]
  },
  {
   "cell_type": "code",
   "execution_count": 2,
   "id": "8ffc71e6-de51-4957-b8ec-77f80be04358",
   "metadata": {},
   "outputs": [
    {
     "name": "stdin",
     "output_type": "stream",
     "text": [
      " 7\n"
     ]
    },
    {
     "name": "stdout",
     "output_type": "stream",
     "text": [
      "This is iteration number : 1\n",
      "This is iteration number : 2\n",
      "This is iteration number : 3\n",
      "This is iteration number : 4\n",
      "This is iteration number : 5\n",
      "This is iteration number : 6\n",
      "Loop done\n"
     ]
    }
   ],
   "source": [
    "n = int(input())\n",
    "i = 1\n",
    "\n",
    "while i<n:\n",
    "    print(\"This is iteration number :\", i)\n",
    "    i+= 1  #can also use i = i+1\n",
    "print(\"Loop done\")"
   ]
  },
  {
   "cell_type": "code",
   "execution_count": 3,
   "id": "a77810d9-f6ae-4c14-9528-a5f6ef78f755",
   "metadata": {},
   "outputs": [
    {
     "name": "stdin",
     "output_type": "stream",
     "text": [
      "Max Iteration : 5\n"
     ]
    },
    {
     "name": "stdout",
     "output_type": "stream",
     "text": [
      "2\n",
      "4\n",
      "Done\n"
     ]
    }
   ],
   "source": [
    "n = int(input(\"Max Iteration :\"))\n",
    "i = 1\n",
    "\n",
    "while (i<n):\n",
    "    if i%2 == 0:\n",
    "        print(i)\n",
    "    else:\n",
    "        pass\n",
    "    i += 1\n",
    "print(\"Done\")"
   ]
  },
  {
   "cell_type": "markdown",
   "id": "f95d75e6-ef15-4c2f-aec3-a694eedd6f34",
   "metadata": {},
   "source": [
    "## Break and Conitnue\n",
    "---"
   ]
  },
  {
   "cell_type": "code",
   "execution_count": 5,
   "id": "50ad2451-f59a-48d2-9d99-2c954fbffaae",
   "metadata": {},
   "outputs": [
    {
     "name": "stdout",
     "output_type": "stream",
     "text": [
      "Inside else: 2\n",
      "Inside else: 3\n",
      "Inside else: 4\n",
      "Inside else: 5\n",
      "Inside else: 6\n",
      "Inside else: 7\n",
      "Inside If\n",
      "Done\n"
     ]
    }
   ],
   "source": [
    "i = 1\n",
    "while True:\n",
    "    if i % 7 == 0:\n",
    "        print(\"Inside If\")\n",
    "        break\n",
    "    else:\n",
    "        i += 1\n",
    "        print(\"Inside else:\", i)\n",
    "        continue  # Skip to the next iteration of the loop\n",
    "print(\"Done\")"
   ]
  },
  {
   "cell_type": "code",
   "execution_count": 1,
   "id": "c23f329e-b6ca-464d-af31-69f639f6209f",
   "metadata": {},
   "outputs": [
    {
     "name": "stdout",
     "output_type": "stream",
     "text": [
      "Inside If\n",
      "Inside If\n",
      "Inside If\n",
      "Inside If\n",
      "Inside If\n",
      "Inside If\n",
      "Inside If\n",
      "Inside If\n",
      "something\n",
      "Done\n"
     ]
    }
   ],
   "source": [
    "i = 1\n",
    "\n",
    "while True:\n",
    "    if  i%9 != 0:\n",
    "        print(\"Inside If\")\n",
    "        i+=1\n",
    "        continue\n",
    "    print(\"something\")\n",
    "    break\n",
    "print(\"Done\")"
   ]
  },
  {
   "cell_type": "markdown",
   "id": "9d0fed31-4388-4826-b594-0cc695e37a74",
   "metadata": {},
   "source": [
    "## for Loop\n",
    "---"
   ]
  },
  {
   "cell_type": "code",
   "execution_count": 5,
   "id": "a2005c3f-028d-40d8-9ed2-706980bad2f3",
   "metadata": {},
   "outputs": [
    {
     "name": "stdout",
     "output_type": "stream",
     "text": [
      "0\n",
      "1\n",
      "2\n",
      "3\n",
      "4\n",
      "5\n",
      "6\n",
      "7\n",
      "8\n",
      "9\n"
     ]
    }
   ],
   "source": [
    "l = []\n",
    "for i in range(10):\n",
    "    print(i)"
   ]
  },
  {
   "cell_type": "code",
   "execution_count": 6,
   "id": "981bfa15-0572-4e32-b072-242af7e2379d",
   "metadata": {},
   "outputs": [
    {
     "name": "stdout",
     "output_type": "stream",
     "text": [
      "0\n",
      "1\n",
      "2\n",
      "3\n",
      "4\n",
      "5\n",
      "6\n",
      "7\n",
      "8\n",
      "9\n",
      "[0, 1, 2, 3, 4, 5, 6, 7, 8, 9]\n"
     ]
    }
   ],
   "source": [
    "l = []\n",
    "for i in range(10):\n",
    "    print(i)\n",
    "    l.append(i)\n",
    "print(l)"
   ]
  },
  {
   "cell_type": "code",
   "execution_count": 7,
   "id": "12bb9843-0953-4808-aabb-4ba2797e46aa",
   "metadata": {},
   "outputs": [
    {
     "name": "stdout",
     "output_type": "stream",
     "text": [
      "0\n",
      "2\n",
      "4\n",
      "6\n",
      "8\n",
      "[0, 4, 16, 36, 64]\n"
     ]
    }
   ],
   "source": [
    "l = []\n",
    "for i in range(0,10,2):\n",
    "    print(i)\n",
    "    l.append(i**2)\n",
    "print(l)"
   ]
  },
  {
   "cell_type": "markdown",
   "id": "4951081c-4c9a-4547-8498-0885fae4becb",
   "metadata": {},
   "source": [
    "## Else in for loops\n",
    "---"
   ]
  },
  {
   "cell_type": "code",
   "execution_count": 9,
   "id": "33fa9244-b6d5-44dc-92b3-7627d7db9623",
   "metadata": {},
   "outputs": [
    {
     "name": "stdout",
     "output_type": "stream",
     "text": [
      "78\n",
      "mango\n",
      "apple\n"
     ]
    }
   ],
   "source": [
    "s = {\"apple\", 78, \"mango\"}\n",
    "\n",
    "for f in s:\n",
    "    print(f)"
   ]
  },
  {
   "cell_type": "code",
   "execution_count": 10,
   "id": "ef1f2704-3df2-49ba-acbe-67eef5f1c42f",
   "metadata": {},
   "outputs": [
    {
     "name": "stdout",
     "output_type": "stream",
     "text": [
      "78\n",
      "mango\n",
      "outside the loop\n"
     ]
    }
   ],
   "source": [
    "s = {\"apple\", 78, \"mango\"}\n",
    "i = 1\n",
    "\n",
    "for f in s:\n",
    "    print(f)\n",
    "    i+=1\n",
    "    if i==3:\n",
    "        break\n",
    "    else:\n",
    "        pass\n",
    "else:\n",
    "    print(\"loop terminates with success\")\n",
    "print(\"outside the loop\")"
   ]
  },
  {
   "cell_type": "code",
   "execution_count": null,
   "id": "3e590ec8-ff2b-4b8e-9457-68cbf19ac043",
   "metadata": {},
   "outputs": [],
   "source": []
  }
 ],
 "metadata": {
  "kernelspec": {
   "display_name": "Python 3 (ipykernel)",
   "language": "python",
   "name": "python3"
  },
  "language_info": {
   "codemirror_mode": {
    "name": "ipython",
    "version": 3
   },
   "file_extension": ".py",
   "mimetype": "text/x-python",
   "name": "python",
   "nbconvert_exporter": "python",
   "pygments_lexer": "ipython3",
   "version": "3.12.7"
  }
 },
 "nbformat": 4,
 "nbformat_minor": 5
}
