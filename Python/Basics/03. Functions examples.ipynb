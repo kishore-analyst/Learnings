{
 "cells": [
  {
   "cell_type": "markdown",
   "id": "856ccc3d-c4d1-415a-9dc4-6a8f33c73e7a",
   "metadata": {},
   "source": [
    "# Functions"
   ]
  },
  {
   "cell_type": "markdown",
   "id": "04afe589-c9de-4703-98f1-1baf4abfc6d2",
   "metadata": {},
   "source": [
    "## round()"
   ]
  },
  {
   "cell_type": "code",
   "execution_count": 1,
   "id": "e4dc7bda-2a10-4139-bd8c-ab5e98ab571f",
   "metadata": {},
   "outputs": [
    {
     "name": "stdout",
     "output_type": "stream",
     "text": [
      "45\n"
     ]
    }
   ],
   "source": [
    "print(round(45.25544))"
   ]
  },
  {
   "cell_type": "code",
   "execution_count": 2,
   "id": "0d26fad7-1295-4ab5-81dc-1cab9e6cd29e",
   "metadata": {},
   "outputs": [
    {
     "name": "stdout",
     "output_type": "stream",
     "text": [
      "5.266\n"
     ]
    }
   ],
   "source": [
    "print(round(5.265555,3))"
   ]
  },
  {
   "cell_type": "code",
   "execution_count": 3,
   "id": "27447417-b408-471f-80b9-abab7edf3ad3",
   "metadata": {},
   "outputs": [
    {
     "name": "stdout",
     "output_type": "stream",
     "text": [
      "65.23\n"
     ]
    }
   ],
   "source": [
    "print(round(65.2348,2))"
   ]
  },
  {
   "cell_type": "code",
   "execution_count": 4,
   "id": "2fc20696-ae33-4054-ada7-4a511b529796",
   "metadata": {},
   "outputs": [
    {
     "name": "stdout",
     "output_type": "stream",
     "text": [
      "65.235\n"
     ]
    }
   ],
   "source": [
    "print(round(65.2348,3))"
   ]
  },
  {
   "cell_type": "markdown",
   "id": "47f43ce6-7d14-44cf-ba06-eb3e02eb6174",
   "metadata": {},
   "source": [
    "## divmod()"
   ]
  },
  {
   "cell_type": "code",
   "execution_count": 7,
   "id": "7f91ad6d-1185-4fe5-bdf1-b65de55e2b06",
   "metadata": {},
   "outputs": [],
   "source": [
    "x = divmod(34,9) # it divides and gives the output in the \"quotient and reminder\" order"
   ]
  },
  {
   "cell_type": "code",
   "execution_count": 8,
   "id": "7122c5b8-9aec-482f-a7c5-0a84fb26c48e",
   "metadata": {},
   "outputs": [
    {
     "name": "stdout",
     "output_type": "stream",
     "text": [
      "(3, 7)\n"
     ]
    }
   ],
   "source": [
    "print(x)"
   ]
  },
  {
   "cell_type": "code",
   "execution_count": 12,
   "id": "42bab65f-bf5a-4f17-9dde-910042182a04",
   "metadata": {},
   "outputs": [
    {
     "data": {
      "text/plain": [
       "tuple"
      ]
     },
     "execution_count": 12,
     "metadata": {},
     "output_type": "execute_result"
    }
   ],
   "source": [
    "type(x) #tuple are ordered and immutable"
   ]
  },
  {
   "cell_type": "code",
   "execution_count": 15,
   "id": "2ec535d8-d529-46f7-b07d-d385a0d80d35",
   "metadata": {},
   "outputs": [
    {
     "data": {
      "text/plain": [
       "3"
      ]
     },
     "execution_count": 15,
     "metadata": {},
     "output_type": "execute_result"
    }
   ],
   "source": [
    "34//9 # // gives the quotient"
   ]
  },
  {
   "cell_type": "code",
   "execution_count": 16,
   "id": "55806c86-a191-4c91-b0ec-24177a8b4fff",
   "metadata": {},
   "outputs": [
    {
     "data": {
      "text/plain": [
       "7"
      ]
     },
     "execution_count": 16,
     "metadata": {},
     "output_type": "execute_result"
    }
   ],
   "source": [
    "34%9 # % gives the reminder"
   ]
  },
  {
   "cell_type": "code",
   "execution_count": 13,
   "id": "6ae652bd-f53d-444c-9403-cc1f9d1ec052",
   "metadata": {},
   "outputs": [
    {
     "data": {
      "text/plain": [
       "3"
      ]
     },
     "execution_count": 13,
     "metadata": {},
     "output_type": "execute_result"
    }
   ],
   "source": [
    "x[0] #this is the index/position which will be covered in data structures"
   ]
  },
  {
   "cell_type": "code",
   "execution_count": 14,
   "id": "2441deea-4cd8-4acf-a418-ac81f59507bb",
   "metadata": {},
   "outputs": [
    {
     "data": {
      "text/plain": [
       "7"
      ]
     },
     "execution_count": 14,
     "metadata": {},
     "output_type": "execute_result"
    }
   ],
   "source": [
    "x[1]"
   ]
  },
  {
   "cell_type": "markdown",
   "id": "951c2227-6dc6-4ee3-bdf8-9806bfa4019f",
   "metadata": {},
   "source": [
    "## isinstance()\n",
    "## returns True, if the first argumetn is an instance of that class. Multiple classes can also be checked at once."
   ]
  },
  {
   "cell_type": "code",
   "execution_count": 17,
   "id": "bdb2129a-c289-40ce-a837-886b2e3b389b",
   "metadata": {},
   "outputs": [
    {
     "data": {
      "text/plain": [
       "True"
      ]
     },
     "execution_count": 17,
     "metadata": {},
     "output_type": "execute_result"
    }
   ],
   "source": [
    "isinstance(34,int)"
   ]
  },
  {
   "cell_type": "code",
   "execution_count": 18,
   "id": "b6cc5ee4-2efa-478b-af78-5406319a4fbe",
   "metadata": {},
   "outputs": [
    {
     "data": {
      "text/plain": [
       "False"
      ]
     },
     "execution_count": 18,
     "metadata": {},
     "output_type": "execute_result"
    }
   ],
   "source": [
    "isinstance(3.5,int)"
   ]
  },
  {
   "cell_type": "code",
   "execution_count": 19,
   "id": "e6102b95-e5d2-4570-b193-e92af0f5ee2e",
   "metadata": {},
   "outputs": [
    {
     "data": {
      "text/plain": [
       "True"
      ]
     },
     "execution_count": 19,
     "metadata": {},
     "output_type": "execute_result"
    }
   ],
   "source": [
    "isinstance(3.5, (int,str,float))"
   ]
  },
  {
   "cell_type": "code",
   "execution_count": 20,
   "id": "5a851b31-30ec-42fb-bfeb-1e87a9e49392",
   "metadata": {},
   "outputs": [
    {
     "data": {
      "text/plain": [
       "True"
      ]
     },
     "execution_count": 20,
     "metadata": {},
     "output_type": "execute_result"
    }
   ],
   "source": [
    "isinstance(3+3j, (int,str,float,complex))"
   ]
  },
  {
   "cell_type": "markdown",
   "id": "a4771192-4288-4f53-bb26-0721a67a6501",
   "metadata": {},
   "source": [
    "## pow(x,y,z)\n",
    "## x raise to the power y and remainder by z"
   ]
  },
  {
   "cell_type": "code",
   "execution_count": 21,
   "id": "e1f455c2-d3ec-46e9-a977-323f6bed717a",
   "metadata": {},
   "outputs": [
    {
     "data": {
      "text/plain": [
       "16"
      ]
     },
     "execution_count": 21,
     "metadata": {},
     "output_type": "execute_result"
    }
   ],
   "source": [
    "pow(2,4)"
   ]
  },
  {
   "cell_type": "code",
   "execution_count": 22,
   "id": "e15288b9-cfc0-49b8-92f6-b3e681b620e6",
   "metadata": {},
   "outputs": [
    {
     "data": {
      "text/plain": [
       "4"
      ]
     },
     "execution_count": 22,
     "metadata": {},
     "output_type": "execute_result"
    }
   ],
   "source": [
    "pow(2,4,6)"
   ]
  },
  {
   "cell_type": "code",
   "execution_count": 23,
   "id": "d8722eb5-4c96-4f56-a77d-6ea082e2a2cc",
   "metadata": {},
   "outputs": [
    {
     "data": {
      "text/plain": [
       "2"
      ]
     },
     "execution_count": 23,
     "metadata": {},
     "output_type": "execute_result"
    }
   ],
   "source": [
    "pow(2,4,7)"
   ]
  },
  {
   "cell_type": "markdown",
   "id": "ecce1980-9b5e-4ee6-9978-999f937340f1",
   "metadata": {},
   "source": [
    "## input()"
   ]
  },
  {
   "cell_type": "code",
   "execution_count": 31,
   "id": "d532a83c-3953-440c-be8a-143f3c911bdb",
   "metadata": {},
   "outputs": [
    {
     "name": "stdin",
     "output_type": "stream",
     "text": [
      "Enter a Number :  55\n"
     ]
    }
   ],
   "source": [
    "a = input(\"Enter a Number : \")"
   ]
  },
  {
   "cell_type": "code",
   "execution_count": 32,
   "id": "dc2e4527-c110-4783-8bfc-399e311a466d",
   "metadata": {},
   "outputs": [
    {
     "data": {
      "text/plain": [
       "str"
      ]
     },
     "execution_count": 32,
     "metadata": {},
     "output_type": "execute_result"
    }
   ],
   "source": [
    "type(a)"
   ]
  },
  {
   "cell_type": "code",
   "execution_count": 35,
   "id": "2abe2f24-4141-4d13-8eee-440195e272f2",
   "metadata": {},
   "outputs": [
    {
     "name": "stdin",
     "output_type": "stream",
     "text": [
      "Enter a Real Number :  1.64\n"
     ]
    }
   ],
   "source": [
    "b = float(input(\"Enter a Real Number : \"))"
   ]
  },
  {
   "cell_type": "code",
   "execution_count": 36,
   "id": "ae3d16d2-a1b8-4686-bb8b-8fec1a1da29e",
   "metadata": {},
   "outputs": [
    {
     "data": {
      "text/plain": [
       "float"
      ]
     },
     "execution_count": 36,
     "metadata": {},
     "output_type": "execute_result"
    }
   ],
   "source": [
    "type(b)"
   ]
  },
  {
   "cell_type": "code",
   "execution_count": 38,
   "id": "6ecf3149-61a6-4f81-85f2-5533eb6a2d63",
   "metadata": {},
   "outputs": [
    {
     "name": "stdin",
     "output_type": "stream",
     "text": [
      "Enter the Value : Kishore\n"
     ]
    },
    {
     "ename": "ValueError",
     "evalue": "invalid literal for int() with base 10: 'Kishore'",
     "output_type": "error",
     "traceback": [
      "\u001b[1;31m---------------------------------------------------------------------------\u001b[0m",
      "\u001b[1;31mValueError\u001b[0m                                Traceback (most recent call last)",
      "Cell \u001b[1;32mIn[38], line 1\u001b[0m\n\u001b[1;32m----> 1\u001b[0m c \u001b[38;5;241m=\u001b[39m \u001b[38;5;28mint\u001b[39m(\u001b[38;5;28minput\u001b[39m(\u001b[38;5;124m\"\u001b[39m\u001b[38;5;124mEnter the Value :\u001b[39m\u001b[38;5;124m\"\u001b[39m))\n",
      "\u001b[1;31mValueError\u001b[0m: invalid literal for int() with base 10: 'Kishore'"
     ]
    }
   ],
   "source": [
    "c = int(input(\"Enter the Value :\"))   # if the type is assigned, then the input should match the type"
   ]
  },
  {
   "cell_type": "markdown",
   "id": "54da0879-156e-4b5b-ad68-38a877feab1b",
   "metadata": {},
   "source": [
    "## to known"
   ]
  },
  {
   "cell_type": "code",
   "execution_count": 45,
   "id": "b3423698-1ed4-4674-a846-2a7bef0abc05",
   "metadata": {},
   "outputs": [
    {
     "data": {
      "text/plain": [
       "\u001b[1;31mSignature:\u001b[0m \u001b[0mpow\u001b[0m\u001b[1;33m(\u001b[0m\u001b[0mbase\u001b[0m\u001b[1;33m,\u001b[0m \u001b[0mexp\u001b[0m\u001b[1;33m,\u001b[0m \u001b[0mmod\u001b[0m\u001b[1;33m=\u001b[0m\u001b[1;32mNone\u001b[0m\u001b[1;33m)\u001b[0m\u001b[1;33m\u001b[0m\u001b[1;33m\u001b[0m\u001b[0m\n",
       "\u001b[1;31mDocstring:\u001b[0m\n",
       "Equivalent to base**exp with 2 arguments or base**exp % mod with 3 arguments\n",
       "\n",
       "Some types, such as ints, are able to use a more efficient algorithm when\n",
       "invoked using the three argument form.\n",
       "\u001b[1;31mType:\u001b[0m      builtin_function_or_method"
      ]
     },
     "metadata": {},
     "output_type": "display_data"
    }
   ],
   "source": [
    "pow?                #if i know the function name and dont know how to use, then the question mark helps to get the explanation"
   ]
  },
  {
   "cell_type": "code",
   "execution_count": 46,
   "id": "e8608d59-61b5-4bf5-9928-a0dac409ff44",
   "metadata": {},
   "outputs": [
    {
     "name": "stdout",
     "output_type": "stream",
     "text": [
      "Help on built-in function pow in module builtins:\n",
      "\n",
      "pow(base, exp, mod=None)\n",
      "    Equivalent to base**exp with 2 arguments or base**exp % mod with 3 arguments\n",
      "\n",
      "    Some types, such as ints, are able to use a more efficient algorithm when\n",
      "    invoked using the three argument form.\n",
      "\n"
     ]
    }
   ],
   "source": [
    "help(pow)"
   ]
  },
  {
   "cell_type": "code",
   "execution_count": 49,
   "id": "d64ea71e-504c-4f9e-8fd1-7f2be90f8837",
   "metadata": {},
   "outputs": [
    {
     "data": {
      "text/plain": [
       "\u001b[1;31mSignature:\u001b[0m \u001b[0minput\u001b[0m\u001b[1;33m(\u001b[0m\u001b[0mprompt\u001b[0m\u001b[1;33m=\u001b[0m\u001b[1;34m''\u001b[0m\u001b[1;33m)\u001b[0m\u001b[1;33m\u001b[0m\u001b[1;33m\u001b[0m\u001b[0m\n",
       "\u001b[1;31mSource:\u001b[0m   \n",
       "    \u001b[1;32mdef\u001b[0m \u001b[0mraw_input\u001b[0m\u001b[1;33m(\u001b[0m\u001b[0mself\u001b[0m\u001b[1;33m,\u001b[0m \u001b[0mprompt\u001b[0m\u001b[1;33m=\u001b[0m\u001b[1;34m\"\"\u001b[0m\u001b[1;33m)\u001b[0m\u001b[1;33m:\u001b[0m\u001b[1;33m\n",
       "\u001b[0m        \u001b[1;34m\"\"\"Forward raw_input to frontends\n",
       "\n",
       "        Raises\n",
       "        ------\n",
       "        StdinNotImplementedError if active frontend doesn't support stdin.\n",
       "        \"\"\"\u001b[0m\u001b[1;33m\n",
       "\u001b[0m        \u001b[1;32mif\u001b[0m \u001b[1;32mnot\u001b[0m \u001b[0mself\u001b[0m\u001b[1;33m.\u001b[0m\u001b[0m_allow_stdin\u001b[0m\u001b[1;33m:\u001b[0m\u001b[1;33m\n",
       "\u001b[0m            \u001b[0mmsg\u001b[0m \u001b[1;33m=\u001b[0m \u001b[1;34m\"raw_input was called, but this frontend does not support input requests.\"\u001b[0m\u001b[1;33m\n",
       "\u001b[0m            \u001b[1;32mraise\u001b[0m \u001b[0mStdinNotImplementedError\u001b[0m\u001b[1;33m(\u001b[0m\u001b[0mmsg\u001b[0m\u001b[1;33m)\u001b[0m\u001b[1;33m\n",
       "\u001b[0m        \u001b[1;32mreturn\u001b[0m \u001b[0mself\u001b[0m\u001b[1;33m.\u001b[0m\u001b[0m_input_request\u001b[0m\u001b[1;33m(\u001b[0m\u001b[1;33m\n",
       "\u001b[0m            \u001b[0mstr\u001b[0m\u001b[1;33m(\u001b[0m\u001b[0mprompt\u001b[0m\u001b[1;33m)\u001b[0m\u001b[1;33m,\u001b[0m\u001b[1;33m\n",
       "\u001b[0m            \u001b[0mself\u001b[0m\u001b[1;33m.\u001b[0m\u001b[0m_parent_ident\u001b[0m\u001b[1;33m[\u001b[0m\u001b[1;34m\"shell\"\u001b[0m\u001b[1;33m]\u001b[0m\u001b[1;33m,\u001b[0m\u001b[1;33m\n",
       "\u001b[0m            \u001b[0mself\u001b[0m\u001b[1;33m.\u001b[0m\u001b[0mget_parent\u001b[0m\u001b[1;33m(\u001b[0m\u001b[1;34m\"shell\"\u001b[0m\u001b[1;33m)\u001b[0m\u001b[1;33m,\u001b[0m\u001b[1;33m\n",
       "\u001b[0m            \u001b[0mpassword\u001b[0m\u001b[1;33m=\u001b[0m\u001b[1;32mFalse\u001b[0m\u001b[1;33m,\u001b[0m\u001b[1;33m\n",
       "\u001b[0m        \u001b[1;33m)\u001b[0m\u001b[1;33m\u001b[0m\u001b[1;33m\u001b[0m\u001b[0m\n",
       "\u001b[1;31mFile:\u001b[0m      c:\\users\\kisho\\anaconda3\\lib\\site-packages\\ipykernel\\kernelbase.py\n",
       "\u001b[1;31mType:\u001b[0m      method"
      ]
     },
     "metadata": {},
     "output_type": "display_data"
    }
   ],
   "source": [
    "input??  # double question mark gives detail explanation"
   ]
  },
  {
   "cell_type": "code",
   "execution_count": 48,
   "id": "7c9a7389-3913-4c6f-a375-67df6ffd1259",
   "metadata": {},
   "outputs": [
    {
     "name": "stdout",
     "output_type": "stream",
     "text": [
      "Help on method raw_input in module ipykernel.kernelbase:\n",
      "\n",
      "raw_input(prompt='') method of ipykernel.ipkernel.IPythonKernel instance\n",
      "    Forward raw_input to frontends\n",
      "\n",
      "    Raises\n",
      "    ------\n",
      "    StdinNotImplementedError if active frontend doesn't support stdin.\n",
      "\n"
     ]
    }
   ],
   "source": [
    "help(input)"
   ]
  },
  {
   "cell_type": "code",
   "execution_count": 3,
   "id": "d77a88ff-cb4c-48d4-bf18-284ce7d4d0bf",
   "metadata": {},
   "outputs": [
    {
     "data": {
      "text/plain": [
       "\u001b[1;31mSignature:\u001b[0m \u001b[0mpow\u001b[0m\u001b[1;33m(\u001b[0m\u001b[0mbase\u001b[0m\u001b[1;33m,\u001b[0m \u001b[0mexp\u001b[0m\u001b[1;33m,\u001b[0m \u001b[0mmod\u001b[0m\u001b[1;33m=\u001b[0m\u001b[1;32mNone\u001b[0m\u001b[1;33m)\u001b[0m\u001b[1;33m\u001b[0m\u001b[1;33m\u001b[0m\u001b[0m\n",
       "\u001b[1;31mDocstring:\u001b[0m\n",
       "Equivalent to base**exp with 2 arguments or base**exp % mod with 3 arguments\n",
       "\n",
       "Some types, such as ints, are able to use a more efficient algorithm when\n",
       "invoked using the three argument form.\n",
       "\u001b[1;31mType:\u001b[0m      builtin_function_or_method"
      ]
     },
     "metadata": {},
     "output_type": "display_data"
    }
   ],
   "source": [
    "pow??"
   ]
  },
  {
   "cell_type": "code",
   "execution_count": null,
   "id": "989aa28e-b756-477d-b1f7-ba9f1634424f",
   "metadata": {},
   "outputs": [],
   "source": []
  }
 ],
 "metadata": {
  "kernelspec": {
   "display_name": "Python 3 (ipykernel)",
   "language": "python",
   "name": "python3"
  },
  "language_info": {
   "codemirror_mode": {
    "name": "ipython",
    "version": 3
   },
   "file_extension": ".py",
   "mimetype": "text/x-python",
   "name": "python",
   "nbconvert_exporter": "python",
   "pygments_lexer": "ipython3",
   "version": "3.12.7"
  }
 },
 "nbformat": 4,
 "nbformat_minor": 5
}
